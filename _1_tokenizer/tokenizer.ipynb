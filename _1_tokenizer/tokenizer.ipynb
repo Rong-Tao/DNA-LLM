{
 "cells": [
  {
   "cell_type": "code",
   "execution_count": null,
   "metadata": {},
   "outputs": [],
   "source": [
    "from pathlib import Path\n",
    "from tokenizers import ByteLevelBPETokenizer\n",
    "import os\n",
    "# Function to read even lines from files\n",
    "training_data_paths = [\"../data/training/host_tr.fa\", \n",
    "                       \"../data/training/host_val.fa\", \n",
    "                       \"../data/training/virus_tr.fa\", \n",
    "                       \"../data/training/virus_val.fa\"]\n",
    "\n",
    "Result_dir = \"BPETokenizer\"\n",
    "vocab_size = 1024\n",
    "\n",
    "def read_even_lines(directory):\n",
    "    data = \"\"\n",
    "    with open(directory, 'r') as file:\n",
    "        lines = file.readlines()[1::2]  # Read only even lines\n",
    "        data += \"\".join(lines) + \"\\n\"\n",
    "    return data\n",
    "\n",
    "training_data = \"\"\n",
    "for path in training_data_paths:\n",
    "    training_data += read_even_lines(path)\n",
    "\n",
    "# Initialize a tokenizer\n",
    "tokenizer = ByteLevelBPETokenizer()"
   ]
  },
  {
   "cell_type": "code",
   "execution_count": null,
   "metadata": {},
   "outputs": [],
   "source": [
    "print(training_data[:100])"
   ]
  },
  {
   "cell_type": "code",
   "execution_count": null,
   "metadata": {},
   "outputs": [],
   "source": [
    "tokenizer.train_from_iterator([training_data], vocab_size=vocab_size, min_frequency=2, special_tokens=[\n",
    "    \"<s>\",\n",
    "    \"<pad>\",\n",
    "    \"</s>\",\n",
    "    \"<unk>\",\n",
    "    \"<mask>\",\n",
    "])"
   ]
  },
  {
   "cell_type": "code",
   "execution_count": null,
   "metadata": {},
   "outputs": [],
   "source": [
    "os.makedirs(Result_dir, exist_ok=True)\n",
    "tokenizer.save_model(Result_dir)"
   ]
  }
 ],
 "metadata": {
  "kernelspec": {
   "display_name": "cv",
   "language": "python",
   "name": "python3"
  },
  "language_info": {
   "codemirror_mode": {
    "name": "ipython",
    "version": 3
   },
   "file_extension": ".py",
   "mimetype": "text/x-python",
   "name": "python",
   "nbconvert_exporter": "python",
   "pygments_lexer": "ipython3",
   "version": "3.12.1"
  }
 },
 "nbformat": 4,
 "nbformat_minor": 2
}
