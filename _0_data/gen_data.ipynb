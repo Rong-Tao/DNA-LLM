{
 "cells": [
  {
   "cell_type": "code",
   "execution_count": 1,
   "metadata": {},
   "outputs": [],
   "source": [
    "import torch\n",
    "import random\n",
    "import os\n",
    "\n",
    "def generate_random_dna_sequence(length):\n",
    "    bases = ['A', 'C', 'G', 'T']\n",
    "    return ''.join(random.choice(bases) for _ in range(length))\n",
    "\n",
    "def save_sample_to_pt(sample, filename):\n",
    "    torch.save(sample, filename)\n",
    "\n",
    "# Set parameters\n",
    "num_samples = 10\n",
    "min_length = 50\n",
    "max_length = 100\n",
    "output_directory = 'generated_data'\n",
    "\n",
    "# Create the output directory if it doesn't exist\n",
    "os.makedirs(output_directory, exist_ok=True)\n",
    "\n",
    "# Generate and save each sample in a separate .pt file\n",
    "for i in range(1, num_samples + 1):\n",
    "    sequence_length = random.randint(min_length, max_length)\n",
    "    dna_sequence = generate_random_dna_sequence(sequence_length)\n",
    "    \n",
    "    # Randomly label the sequence as virus (1) or not virus (0)\n",
    "    is_virus = random.choice([0, 1])\n",
    "\n",
    "    sample = {'data': dna_sequence, 'label': is_virus}\n",
    "    filename = os.path.join(output_directory, f'{i:06d}.pt')  # Use zero-padding for the filename\n",
    "    save_sample_to_pt(sample, filename)\n"
   ]
  }
 ],
 "metadata": {
  "kernelspec": {
   "display_name": "cv",
   "language": "python",
   "name": "python3"
  },
  "language_info": {
   "codemirror_mode": {
    "name": "ipython",
    "version": 3
   },
   "file_extension": ".py",
   "mimetype": "text/x-python",
   "name": "python",
   "nbconvert_exporter": "python",
   "pygments_lexer": "ipython3",
   "version": "3.12.1"
  }
 },
 "nbformat": 4,
 "nbformat_minor": 2
}
