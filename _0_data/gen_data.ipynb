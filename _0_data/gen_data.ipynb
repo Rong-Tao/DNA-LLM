{
 "cells": [
  {
   "cell_type": "code",
   "execution_count": 1,
   "metadata": {},
   "outputs": [],
   "source": [
    "from pathlib import Path\n",
    "from tokenizers import ByteLevelBPETokenizer\n",
    "from transformers import RobertaTokenizerFast\n",
    "from datasets import Dataset"
   ]
  },
  {
   "cell_type": "code",
   "execution_count": 2,
   "metadata": {},
   "outputs": [],
   "source": [
    "def read_even_lines(directory, is_v):\n",
    "    data = \"\"\n",
    "    with open(directory, 'r') as file:\n",
    "        lines = file.readlines()[1::2]  # Read only even lines\n",
    "        data += \"\".join(lines) + \"\\n\"\n",
    "    return {'DNA': data, 'is_v': is_v}"
   ]
  },
  {
   "cell_type": "code",
   "execution_count": 3,
   "metadata": {},
   "outputs": [],
   "source": [
    "training_data_paths = [\"../data/training/host_tr.fa\", \n",
    "                       \"../data/training/virus_tr.fa\"]\n",
    "\n",
    "valing_data_paths = [\"../data/training/host_val.fa\", \n",
    "                      \"../data/training/virus_val.fa\"]"
   ]
  },
  {
   "cell_type": "code",
   "execution_count": 4,
   "metadata": {},
   "outputs": [
    {
     "data": {
      "application/vnd.jupyter.widget-view+json": {
       "model_id": "81a1c4ed58704462b78cddbb056a4d7e",
       "version_major": 2,
       "version_minor": 0
      },
      "text/plain": [
       "Saving the dataset (0/1 shards):   0%|          | 0/2 [00:00<?, ? examples/s]"
      ]
     },
     "metadata": {},
     "output_type": "display_data"
    },
    {
     "data": {
      "application/vnd.jupyter.widget-view+json": {
       "model_id": "5698fc8447e2422b80656ff7dc5ac9b3",
       "version_major": 2,
       "version_minor": 0
      },
      "text/plain": [
       "Saving the dataset (0/1 shards):   0%|          | 0/2 [00:00<?, ? examples/s]"
      ]
     },
     "metadata": {},
     "output_type": "display_data"
    }
   ],
   "source": [
    "tokenizer = ByteLevelBPETokenizer()\n",
    "tokenizer = RobertaTokenizerFast.from_pretrained(\"../_1_tokenizer/BPETokenizer\", max_len=512)\n",
    "\n",
    "tokenized_train_data = []\n",
    "tokenized_val_data = []\n",
    "\n",
    "for i, path in enumerate(training_data_paths):\n",
    "    is_v = 1 if i % 2 != 0 else 0  # Assign 1 for virus files and 0 for host files\n",
    "    even_lines_data = read_even_lines(path, is_v)\n",
    "    tokenized_lines = tokenizer(even_lines_data['DNA'], padding='max_length', truncation=True, max_length=512)\n",
    "    tokenized_train_data.append({'DNA': tokenized_lines['input_ids'], 'is_v': is_v})\n",
    "\n",
    "for i, path in enumerate(valing_data_paths):\n",
    "    is_v = 1 if i % 2 != 0 else 0  # Assign 1 for virus files and 0 for host files\n",
    "    even_lines_data = read_even_lines(path, is_v)\n",
    "    tokenized_lines = tokenizer(even_lines_data['DNA'], padding='max_length', truncation=True, max_length=512)\n",
    "    tokenized_val_data.append({'DNA': tokenized_lines['input_ids'], 'is_v': is_v})\n",
    "\n",
    "train_dataset = Dataset.from_dict({'DNA': [item['DNA'] for item in tokenized_train_data], 'is_v': [item['is_v'] for item in tokenized_train_data]})\n",
    "val_dataset = Dataset.from_dict({'DNA': [item['DNA'] for item in tokenized_val_data], 'is_v': [item['is_v'] for item in tokenized_val_data]})\n",
    "\n",
    "train_dataset.save_to_disk('Tokenized_train_dataset.hf')\n",
    "val_dataset.save_to_disk('Tokenized_val_dataset.hf')"
   ]
  }
 ],
 "metadata": {
  "kernelspec": {
   "display_name": "cv",
   "language": "python",
   "name": "python3"
  },
  "language_info": {
   "codemirror_mode": {
    "name": "ipython",
    "version": 3
   },
   "file_extension": ".py",
   "mimetype": "text/x-python",
   "name": "python",
   "nbconvert_exporter": "python",
   "pygments_lexer": "ipython3",
   "version": "3.12.1"
  }
 },
 "nbformat": 4,
 "nbformat_minor": 2
}
